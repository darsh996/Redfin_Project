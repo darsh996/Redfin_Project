{
 "cells": [
  {
   "cell_type": "code",
   "execution_count": 12,
   "id": "5cad59be",
   "metadata": {},
   "outputs": [],
   "source": [
    "import pandas as pd\n",
    "import requests\n",
    "from io import BytesIO"
   ]
  },
  {
   "cell_type": "code",
   "execution_count": 13,
   "id": "b7f2f45c",
   "metadata": {},
   "outputs": [],
   "source": [
    "url_by_city = 'https://redfin-public-data.s3.us-west-2.amazonaws.com/redfin_market_tracker/city_market_tracker.tsv000.gz'"
   ]
  },
  {
   "cell_type": "code",
   "execution_count": 14,
   "id": "3b3d4322",
   "metadata": {},
   "outputs": [],
   "source": [
    "# Optionally, you can save the downloaded data to a local file\n",
    "# Specify the path where you want to save the DataFrame\n",
    "# Specify the path where you want to save the DataFrame\n",
    "save_path = '/Users/darshmac/Documents/Redfin_Project/Dataset/redfin_testing_city.csv'\n",
    "max_size_bytes = 500*1024*1024  # 500 MB in bytes"
   ]
  },
  {
   "cell_type": "code",
   "execution_count": 15,
   "id": "c8293f17",
   "metadata": {},
   "outputs": [],
   "source": [
    "def extract_data(url, max_size_bytes, save_path):\n",
    "    response = requests.get(url, stream=True)\n",
    "    content_size = 0\n",
    "    content = b''\n",
    "    \n",
    "    for chunk in response.iter_content(chunk_size=1024):  # Adjust chunk size as needed\n",
    "        content_size += len(chunk)\n",
    "        if content_size >= max_size_bytes:\n",
    "            break\n",
    "        content += chunk\n",
    "\n",
    "    # Convert the content into a file-like object\n",
    "    file_like_object = BytesIO(content)\n",
    "    \n",
    "    # Read the file-like object into a DataFrame\n",
    "    df = pd.read_csv(file_like_object, compression='gzip', sep='\\t')\n",
    "    \n",
    "    if save_path:\n",
    "        df.to_csv(save_path, index=False)  # Save DataFrame to a CSV file in the specified path\n",
    "    \n",
    "    return df"
   ]
  },
  {
   "cell_type": "code",
   "execution_count": null,
   "id": "74bed6f4",
   "metadata": {},
   "outputs": [],
   "source": [
    "# Example usage:\n",
    "# Specify the maximum size of data to download for testing (e.g., 500 MB)\n",
    "\n",
    "df = extract_data(url_by_city, max_size_bytes=max_size_bytes,save_path=save_path)"
   ]
  },
  {
   "cell_type": "code",
   "execution_count": null,
   "id": "31cb13c6",
   "metadata": {},
   "outputs": [],
   "source": [
    "# Check the first few rows of the DataFrame\n",
    "print(df.head())"
   ]
  }
 ],
 "metadata": {
  "kernelspec": {
   "display_name": "Python 3 (ipykernel)",
   "language": "python",
   "name": "python3"
  },
  "language_info": {
   "codemirror_mode": {
    "name": "ipython",
    "version": 3
   },
   "file_extension": ".py",
   "mimetype": "text/x-python",
   "name": "python",
   "nbconvert_exporter": "python",
   "pygments_lexer": "ipython3",
   "version": "3.9.18"
  }
 },
 "nbformat": 4,
 "nbformat_minor": 5
}
