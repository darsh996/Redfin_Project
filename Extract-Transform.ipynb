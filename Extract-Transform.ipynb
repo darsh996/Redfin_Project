{
 "cells": [
  {
   "cell_type": "code",
   "execution_count": 25,
   "id": "567c51b0",
   "metadata": {},
   "outputs": [],
   "source": [
    "from datetime import datetime as dt\n",
    "import pandas as pd\n",
    "import time\n",
    "import warnings\n",
    "\n",
    "pd.set_option('display.max_columns', None)\n",
    "warnings.filterwarnings('ignore')"
   ]
  },
  {
   "cell_type": "code",
   "execution_count": 26,
   "id": "ffd0f9ac",
   "metadata": {},
   "outputs": [],
   "source": [
    "url_by_city = 'https://redfin-public-data.s3.us-west-2.amazonaws.com/redfin_market_tracker/city_market_tracker.tsv000.gz'"
   ]
  },
  {
   "cell_type": "code",
   "execution_count": 27,
   "id": "cedef0a3",
   "metadata": {},
   "outputs": [],
   "source": [
    "# Specify the path where you want to save the DataFrame\n",
    "save_path = '/Users/darshmac/Documents/Redfin_Project/Dataset/redfin_city.csv'"
   ]
  },
  {
   "cell_type": "code",
   "execution_count": 28,
   "id": "351773b6",
   "metadata": {},
   "outputs": [],
   "source": [
    "def extract_data(url, save_path=None):\n",
    "    df = pd.read_csv(url, compression='gzip', sep='\\t')\n",
    "    if save_path:\n",
    "        df.to_csv(save_path, index=False)  # Save DataFrame to a CSV file in the specified path\n",
    "    return df"
   ]
  },
  {
   "cell_type": "code",
   "execution_count": 29,
   "id": "c08189f2",
   "metadata": {},
   "outputs": [],
   "source": [
    "df = extract_data(url_by_city, save_path)"
   ]
  },
  {
   "cell_type": "code",
   "execution_count": null,
   "id": "1b10a77f",
   "metadata": {},
   "outputs": [],
   "source": [
    "# Check the first few rows of the DataFrame\n",
    "df.head()"
   ]
  },
  {
   "cell_type": "code",
   "execution_count": null,
   "id": "bb723ed6",
   "metadata": {},
   "outputs": [],
   "source": [
    "print('Number of rows:', len(df))\n",
    "print('Number of cols:', len(df.columns))"
   ]
  },
  {
   "cell_type": "code",
   "execution_count": null,
   "id": "ff78ddd7",
   "metadata": {},
   "outputs": [],
   "source": []
  }
 ],
 "metadata": {
  "kernelspec": {
   "display_name": "Python 3 (ipykernel)",
   "language": "python",
   "name": "python3"
  },
  "language_info": {
   "codemirror_mode": {
    "name": "ipython",
    "version": 3
   },
   "file_extension": ".py",
   "mimetype": "text/x-python",
   "name": "python",
   "nbconvert_exporter": "python",
   "pygments_lexer": "ipython3",
   "version": "3.9.18"
  }
 },
 "nbformat": 4,
 "nbformat_minor": 5
}
